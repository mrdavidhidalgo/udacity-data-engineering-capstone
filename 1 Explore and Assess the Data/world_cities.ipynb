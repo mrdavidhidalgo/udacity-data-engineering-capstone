{
 "cells": [
  {
   "cell_type": "markdown",
   "metadata": {},
   "source": [
    "## World cities\n",
    "Explore the data to identify data quality issues, like missing values, duplicate data, etc. Document steps necessary to clean the data\n",
    "\n",
    "This dataset contains information about Traffic Accident Dataset in US taken from https://www.kaggle.com/okfn/world-cities"
   ]
  },
  {
   "cell_type": "code",
   "execution_count": 1,
   "metadata": {},
   "outputs": [
    {
     "name": "stdout",
     "output_type": "stream",
     "text": [
      "total 4558120\r\n",
      "-rw-r--r--@ 1 davidhidalgo  staff   1.2G Jul  7 09:29 US_Accidents_June20.csv\r\n",
      "-rw-r--r--  1 davidhidalgo  staff   779M Dec  7 15:24 accidents.csv\r\n",
      "-rw-r--r--  1 davidhidalgo  staff    39K Dec  7 15:26 traffic_accidens.ipynb\r\n",
      "-rw-r--r--  1 davidhidalgo  staff   941B Dec  7 15:37 world_cities.ipynb\r\n",
      "-rwxr-xr-x@ 1 davidhidalgo  staff   157M Sep 20  2019 \u001b[31mworldcitiespop.csv\u001b[m\u001b[m\r\n"
     ]
    }
   ],
   "source": [
    "!ls -lh "
   ]
  },
  {
   "cell_type": "code",
   "execution_count": 2,
   "metadata": {},
   "outputs": [],
   "source": [
    "import pandas as pd\n",
    "import numpy as np"
   ]
  },
  {
   "cell_type": "code",
   "execution_count": 3,
   "metadata": {},
   "outputs": [
    {
     "name": "stderr",
     "output_type": "stream",
     "text": [
      "/Users/davidhidalgo/.pyenv/versions/3.8.3/lib/python3.8/site-packages/IPython/core/interactiveshell.py:3145: DtypeWarning: Columns (3) have mixed types.Specify dtype option on import or set low_memory=False.\n",
      "  has_raised = await self.run_ast_nodes(code_ast.body, cell_name,\n"
     ]
    },
    {
     "data": {
      "text/html": [
       "<div>\n",
       "<style scoped>\n",
       "    .dataframe tbody tr th:only-of-type {\n",
       "        vertical-align: middle;\n",
       "    }\n",
       "\n",
       "    .dataframe tbody tr th {\n",
       "        vertical-align: top;\n",
       "    }\n",
       "\n",
       "    .dataframe thead th {\n",
       "        text-align: right;\n",
       "    }\n",
       "</style>\n",
       "<table border=\"1\" class=\"dataframe\">\n",
       "  <thead>\n",
       "    <tr style=\"text-align: right;\">\n",
       "      <th></th>\n",
       "      <th>Country</th>\n",
       "      <th>City</th>\n",
       "      <th>AccentCity</th>\n",
       "      <th>Region</th>\n",
       "      <th>Population</th>\n",
       "      <th>Latitude</th>\n",
       "      <th>Longitude</th>\n",
       "    </tr>\n",
       "  </thead>\n",
       "  <tbody>\n",
       "    <tr>\n",
       "      <th>0</th>\n",
       "      <td>ad</td>\n",
       "      <td>aixas</td>\n",
       "      <td>Aixàs</td>\n",
       "      <td>6</td>\n",
       "      <td>NaN</td>\n",
       "      <td>42.483333</td>\n",
       "      <td>1.466667</td>\n",
       "    </tr>\n",
       "    <tr>\n",
       "      <th>1</th>\n",
       "      <td>ad</td>\n",
       "      <td>aixirivali</td>\n",
       "      <td>Aixirivali</td>\n",
       "      <td>6</td>\n",
       "      <td>NaN</td>\n",
       "      <td>42.466667</td>\n",
       "      <td>1.500000</td>\n",
       "    </tr>\n",
       "    <tr>\n",
       "      <th>2</th>\n",
       "      <td>ad</td>\n",
       "      <td>aixirivall</td>\n",
       "      <td>Aixirivall</td>\n",
       "      <td>6</td>\n",
       "      <td>NaN</td>\n",
       "      <td>42.466667</td>\n",
       "      <td>1.500000</td>\n",
       "    </tr>\n",
       "    <tr>\n",
       "      <th>3</th>\n",
       "      <td>ad</td>\n",
       "      <td>aixirvall</td>\n",
       "      <td>Aixirvall</td>\n",
       "      <td>6</td>\n",
       "      <td>NaN</td>\n",
       "      <td>42.466667</td>\n",
       "      <td>1.500000</td>\n",
       "    </tr>\n",
       "    <tr>\n",
       "      <th>4</th>\n",
       "      <td>ad</td>\n",
       "      <td>aixovall</td>\n",
       "      <td>Aixovall</td>\n",
       "      <td>6</td>\n",
       "      <td>NaN</td>\n",
       "      <td>42.466667</td>\n",
       "      <td>1.483333</td>\n",
       "    </tr>\n",
       "    <tr>\n",
       "      <th>5</th>\n",
       "      <td>ad</td>\n",
       "      <td>andorra</td>\n",
       "      <td>Andorra</td>\n",
       "      <td>7</td>\n",
       "      <td>NaN</td>\n",
       "      <td>42.500000</td>\n",
       "      <td>1.516667</td>\n",
       "    </tr>\n",
       "    <tr>\n",
       "      <th>6</th>\n",
       "      <td>ad</td>\n",
       "      <td>andorra la vella</td>\n",
       "      <td>Andorra la Vella</td>\n",
       "      <td>7</td>\n",
       "      <td>20430.0</td>\n",
       "      <td>42.500000</td>\n",
       "      <td>1.516667</td>\n",
       "    </tr>\n",
       "    <tr>\n",
       "      <th>7</th>\n",
       "      <td>ad</td>\n",
       "      <td>andorra-vieille</td>\n",
       "      <td>Andorra-Vieille</td>\n",
       "      <td>7</td>\n",
       "      <td>NaN</td>\n",
       "      <td>42.500000</td>\n",
       "      <td>1.516667</td>\n",
       "    </tr>\n",
       "    <tr>\n",
       "      <th>8</th>\n",
       "      <td>ad</td>\n",
       "      <td>andorre</td>\n",
       "      <td>Andorre</td>\n",
       "      <td>7</td>\n",
       "      <td>NaN</td>\n",
       "      <td>42.500000</td>\n",
       "      <td>1.516667</td>\n",
       "    </tr>\n",
       "    <tr>\n",
       "      <th>9</th>\n",
       "      <td>ad</td>\n",
       "      <td>andorre-la-vieille</td>\n",
       "      <td>Andorre-la-Vieille</td>\n",
       "      <td>7</td>\n",
       "      <td>NaN</td>\n",
       "      <td>42.500000</td>\n",
       "      <td>1.516667</td>\n",
       "    </tr>\n",
       "  </tbody>\n",
       "</table>\n",
       "</div>"
      ],
      "text/plain": [
       "  Country                City          AccentCity Region  Population  \\\n",
       "0      ad               aixas               Aixàs      6         NaN   \n",
       "1      ad          aixirivali          Aixirivali      6         NaN   \n",
       "2      ad          aixirivall          Aixirivall      6         NaN   \n",
       "3      ad           aixirvall           Aixirvall      6         NaN   \n",
       "4      ad            aixovall            Aixovall      6         NaN   \n",
       "5      ad             andorra             Andorra      7         NaN   \n",
       "6      ad    andorra la vella    Andorra la Vella      7     20430.0   \n",
       "7      ad     andorra-vieille     Andorra-Vieille      7         NaN   \n",
       "8      ad             andorre             Andorre      7         NaN   \n",
       "9      ad  andorre-la-vieille  Andorre-la-Vieille      7         NaN   \n",
       "\n",
       "    Latitude  Longitude  \n",
       "0  42.483333   1.466667  \n",
       "1  42.466667   1.500000  \n",
       "2  42.466667   1.500000  \n",
       "3  42.466667   1.500000  \n",
       "4  42.466667   1.483333  \n",
       "5  42.500000   1.516667  \n",
       "6  42.500000   1.516667  \n",
       "7  42.500000   1.516667  \n",
       "8  42.500000   1.516667  \n",
       "9  42.500000   1.516667  "
      ]
     },
     "execution_count": 3,
     "metadata": {},
     "output_type": "execute_result"
    }
   ],
   "source": [
    "df = pd.read_csv(\"worldcitiespop.csv\")\n",
    "df.head(10)"
   ]
  },
  {
   "cell_type": "code",
   "execution_count": 4,
   "metadata": {},
   "outputs": [
    {
     "data": {
      "text/plain": [
       "3173958"
      ]
     },
     "execution_count": 4,
     "metadata": {},
     "output_type": "execute_result"
    }
   ],
   "source": [
    "len(df)"
   ]
  },
  {
   "cell_type": "markdown",
   "metadata": {},
   "source": [
    "### Searching for duplicated data "
   ]
  },
  {
   "cell_type": "markdown",
   "metadata": {},
   "source": [
    "#### Searching duplicated data for every row"
   ]
  },
  {
   "cell_type": "code",
   "execution_count": 5,
   "metadata": {},
   "outputs": [
    {
     "name": "stdout",
     "output_type": "stream",
     "text": [
      "Duplicate Rows based on all columns are :\n",
      "        Country           City     AccentCity Region  Population   Latitude  \\\n",
      "849          af    `abdul kala    `Abdul Kala     29         NaN  33.244444   \n",
      "1320         af   abzi khuda'i   Abzi Khuda'i      2         NaN  34.887596   \n",
      "1434         af        adamzai        Adamzai     23         NaN  31.485326   \n",
      "1514         af         adizai         Adizai     14         NaN  34.884457   \n",
      "1562         af         aduzai         Aduzai     39         NaN  32.551787   \n",
      "...         ...            ...            ...    ...         ...        ...   \n",
      "3071252      ve  maria rosario  María Rosario     14         NaN   9.187222   \n",
      "3073781      ve   puente palma   Puente Palma     13         NaN  10.050000   \n",
      "3075911      ve      sicaragua      Sicaragua     13         NaN   9.948889   \n",
      "3076092      ve      tacarigua      Tacarigua     13         NaN  10.162222   \n",
      "3076654      ve         turqui         Turqui     11         NaN  10.449444   \n",
      "\n",
      "         Longitude  \n",
      "849      68.828611  \n",
      "1320     63.068040  \n",
      "1434     65.528894  \n",
      "1514     69.657845  \n",
      "1562     65.392415  \n",
      "...            ...  \n",
      "3071252 -71.048889  \n",
      "3073781 -70.877778  \n",
      "3075911 -70.094444  \n",
      "3076092 -69.210000  \n",
      "3076654 -70.711111  \n",
      "\n",
      "[311 rows x 7 columns]\n"
     ]
    }
   ],
   "source": [
    "duplicateDf = df[df.duplicated()]\n",
    "print(\"Duplicate Rows based on all columns are :\")\n",
    "print(duplicateDf)"
   ]
  },
  {
   "cell_type": "markdown",
   "metadata": {},
   "source": [
    "#### Dropping duplicated data for every row"
   ]
  },
  {
   "cell_type": "code",
   "execution_count": 7,
   "metadata": {},
   "outputs": [],
   "source": [
    "df = df.drop_duplicates()"
   ]
  },
  {
   "cell_type": "code",
   "execution_count": 8,
   "metadata": {},
   "outputs": [
    {
     "name": "stdout",
     "output_type": "stream",
     "text": [
      "Duplicate Rows based on all columns are :\n",
      "Empty DataFrame\n",
      "Columns: [Country, City, AccentCity, Region, Population, Latitude, Longitude]\n",
      "Index: []\n"
     ]
    }
   ],
   "source": [
    "duplicateDf = df[df.duplicated()]\n",
    "print(\"Duplicate Rows based on all columns are :\")\n",
    "print(duplicateDf)"
   ]
  },
  {
   "cell_type": "markdown",
   "metadata": {},
   "source": [
    "#### Searching duplicated data for Country-City"
   ]
  },
  {
   "cell_type": "code",
   "execution_count": 17,
   "metadata": {},
   "outputs": [
    {
     "name": "stdout",
     "output_type": "stream",
     "text": [
      "Duplicate Rows based on its identifier column are:\n",
      "        Country              City        AccentCity Region  Population  \\\n",
      "583          af  `abbas khan kala  `Abbas Khan Kala     29         NaN   \n",
      "841          af        `abdul haq        `Abdul Haq      2         NaN   \n",
      "850          af        abdul'kala        Abdul'kala     29         NaN   \n",
      "905          af      abdullahkhan      Abdullahkhan     19         NaN   \n",
      "906          af    `abdullah khan    `Abdullah Khan     19         NaN   \n",
      "...         ...               ...               ...    ...         ...   \n",
      "3132924      za         oudekraal         Oudekraal     11         NaN   \n",
      "3134665      za        springvale        Springvale     05         NaN   \n",
      "3135468      za        tweespruit        Tweespruit     03         NaN   \n",
      "3158378      zr           katanda           Katanda      0         NaN   \n",
      "3158379      zr          ka-tanda          Ka-Tanda      0         NaN   \n",
      "\n",
      "          Latitude  Longitude  \n",
      "583      32.503976  69.209795  \n",
      "841      35.433951  63.388675  \n",
      "850      33.274167  68.870278  \n",
      "905      31.163611  61.841944  \n",
      "906      31.163611  61.841944  \n",
      "...            ...        ...  \n",
      "3132924 -34.250000  19.600000  \n",
      "3134665 -31.717554  25.789744  \n",
      "3135468 -29.185207  27.031891  \n",
      "3158378  -7.733333  17.850000  \n",
      "3158379  -7.833333  18.966667  \n",
      "\n",
      "[3342 rows x 7 columns]\n"
     ]
    }
   ],
   "source": [
    "duplicateIdDf = df[df.duplicated(['Country','City','AccentCity','Region'])]\n",
    "print(\"Duplicate Rows based on its identifier column are:\")\n",
    "print(duplicateIdDf)"
   ]
  },
  {
   "cell_type": "markdown",
   "metadata": {},
   "source": [
    "#### Dropping duplicated data for every row"
   ]
  },
  {
   "cell_type": "code",
   "execution_count": 21,
   "metadata": {},
   "outputs": [],
   "source": [
    " df = df.drop_duplicates(['Country','City','AccentCity','Region'])"
   ]
  },
  {
   "cell_type": "code",
   "execution_count": 22,
   "metadata": {},
   "outputs": [
    {
     "name": "stdout",
     "output_type": "stream",
     "text": [
      "Duplicate Rows based on its identifier column are:\n",
      "Empty DataFrame\n",
      "Columns: [Country, City, AccentCity, Region, Population, Latitude, Longitude]\n",
      "Index: []\n"
     ]
    }
   ],
   "source": [
    "duplicateIdDf = df[df.duplicated(['Country','City','AccentCity','Region'])]\n",
    "print(\"Duplicate Rows based on its identifier column are:\")\n",
    "print(duplicateIdDf)"
   ]
  },
  {
   "cell_type": "code",
   "execution_count": 23,
   "metadata": {},
   "outputs": [
    {
     "data": {
      "text/plain": [
       "City\n",
       " bab el ahmar           1\n",
       " chefe muzamane         1\n",
       " donji kraj             1\n",
       " el eneal               1\n",
       " el islero              1\n",
       "                       ..\n",
       "Þrestbakki              2\n",
       "Þvera                   1\n",
       "Þykkvabaejarklaustur    1\n",
       "Þykkvabejarklaustur     1\n",
       "Þykkvibaer              2\n",
       "Name: City, Length: 2351891, dtype: int64"
      ]
     },
     "execution_count": 23,
     "metadata": {},
     "output_type": "execute_result"
    }
   ],
   "source": [
    " df.groupby(\"City\")[\"City\"].count()"
   ]
  },
  {
   "cell_type": "code",
   "execution_count": 24,
   "metadata": {},
   "outputs": [
    {
     "data": {
      "text/html": [
       "<div>\n",
       "<style scoped>\n",
       "    .dataframe tbody tr th:only-of-type {\n",
       "        vertical-align: middle;\n",
       "    }\n",
       "\n",
       "    .dataframe tbody tr th {\n",
       "        vertical-align: top;\n",
       "    }\n",
       "\n",
       "    .dataframe thead th {\n",
       "        text-align: right;\n",
       "    }\n",
       "</style>\n",
       "<table border=\"1\" class=\"dataframe\">\n",
       "  <thead>\n",
       "    <tr style=\"text-align: right;\">\n",
       "      <th></th>\n",
       "      <th>Population</th>\n",
       "      <th>Latitude</th>\n",
       "      <th>Longitude</th>\n",
       "    </tr>\n",
       "  </thead>\n",
       "  <tbody>\n",
       "    <tr>\n",
       "      <th>count</th>\n",
       "      <td>4.797000e+04</td>\n",
       "      <td>3.170305e+06</td>\n",
       "      <td>3.170305e+06</td>\n",
       "    </tr>\n",
       "    <tr>\n",
       "      <th>mean</th>\n",
       "      <td>4.772768e+04</td>\n",
       "      <td>2.719040e+01</td>\n",
       "      <td>3.706567e+01</td>\n",
       "    </tr>\n",
       "    <tr>\n",
       "      <th>std</th>\n",
       "      <td>3.029197e+05</td>\n",
       "      <td>2.195815e+01</td>\n",
       "      <td>6.323034e+01</td>\n",
       "    </tr>\n",
       "    <tr>\n",
       "      <th>min</th>\n",
       "      <td>7.000000e+00</td>\n",
       "      <td>-5.493333e+01</td>\n",
       "      <td>-1.799833e+02</td>\n",
       "    </tr>\n",
       "    <tr>\n",
       "      <th>25%</th>\n",
       "      <td>3.732000e+03</td>\n",
       "      <td>1.163333e+01</td>\n",
       "      <td>7.297780e+00</td>\n",
       "    </tr>\n",
       "    <tr>\n",
       "      <th>50%</th>\n",
       "      <td>1.078200e+04</td>\n",
       "      <td>3.249636e+01</td>\n",
       "      <td>3.523556e+01</td>\n",
       "    </tr>\n",
       "    <tr>\n",
       "      <th>75%</th>\n",
       "      <td>2.799350e+04</td>\n",
       "      <td>4.373333e+01</td>\n",
       "      <td>9.570000e+01</td>\n",
       "    </tr>\n",
       "    <tr>\n",
       "      <th>max</th>\n",
       "      <td>3.148050e+07</td>\n",
       "      <td>8.248333e+01</td>\n",
       "      <td>1.800000e+02</td>\n",
       "    </tr>\n",
       "  </tbody>\n",
       "</table>\n",
       "</div>"
      ],
      "text/plain": [
       "         Population      Latitude     Longitude\n",
       "count  4.797000e+04  3.170305e+06  3.170305e+06\n",
       "mean   4.772768e+04  2.719040e+01  3.706567e+01\n",
       "std    3.029197e+05  2.195815e+01  6.323034e+01\n",
       "min    7.000000e+00 -5.493333e+01 -1.799833e+02\n",
       "25%    3.732000e+03  1.163333e+01  7.297780e+00\n",
       "50%    1.078200e+04  3.249636e+01  3.523556e+01\n",
       "75%    2.799350e+04  4.373333e+01  9.570000e+01\n",
       "max    3.148050e+07  8.248333e+01  1.800000e+02"
      ]
     },
     "execution_count": 24,
     "metadata": {},
     "output_type": "execute_result"
    }
   ],
   "source": [
    "df.describe()"
   ]
  },
  {
   "cell_type": "code",
   "execution_count": 25,
   "metadata": {},
   "outputs": [
    {
     "data": {
      "text/plain": [
       "Country       3170305\n",
       "City          3170299\n",
       "AccentCity    3170305\n",
       "Region        3170297\n",
       "Population      47970\n",
       "Latitude      3170305\n",
       "Longitude     3170305\n",
       "dtype: int64"
      ]
     },
     "execution_count": 25,
     "metadata": {},
     "output_type": "execute_result"
    }
   ],
   "source": [
    "df.count()"
   ]
  },
  {
   "cell_type": "code",
   "execution_count": 28,
   "metadata": {},
   "outputs": [],
   "source": [
    "df.to_csv(\"../prepared_datasets/cities.csv\")"
   ]
  },
  {
   "cell_type": "code",
   "execution_count": null,
   "metadata": {},
   "outputs": [],
   "source": []
  }
 ],
 "metadata": {
  "kernelspec": {
   "display_name": "Python 3",
   "language": "python",
   "name": "python3"
  },
  "language_info": {
   "codemirror_mode": {
    "name": "ipython",
    "version": 3
   },
   "file_extension": ".py",
   "mimetype": "text/x-python",
   "name": "python",
   "nbconvert_exporter": "python",
   "pygments_lexer": "ipython3",
   "version": "3.8.3"
  }
 },
 "nbformat": 4,
 "nbformat_minor": 4
}
